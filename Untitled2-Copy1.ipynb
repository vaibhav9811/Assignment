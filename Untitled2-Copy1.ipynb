{
 "cells": [
  {
   "cell_type": "markdown",
   "id": "d04c0fef-c855-4e06-9639-a2c5bdd71853",
   "metadata": {},
   "source": [
    "Q1..The keyword used to create a function in most programming languages is \"def\" (short for define). Here's an example of how you can create a function to return a list of odd numbers in the range of 1 to 25 using Python:"
   ]
  },
  {
   "cell_type": "code",
   "execution_count": 1,
   "id": "37198925-fec8-4d2f-a6ca-fa965d43c220",
   "metadata": {},
   "outputs": [
    {
     "name": "stdout",
     "output_type": "stream",
     "text": [
      "[1, 3, 5, 7, 9, 11, 13, 15, 17, 19, 21, 23, 25]\n"
     ]
    }
   ],
   "source": [
    "def get_odd_numbers():\n",
    "    odd_numbers = []\n",
    "    for number in range(1, 26):\n",
    "        if number % 2 != 0:\n",
    "            odd_numbers.append(number)\n",
    "    return odd_numbers\n",
    "\n",
    "# Calling the function and printing the result\n",
    "print(get_odd_numbers())\n"
   ]
  },
  {
   "cell_type": "markdown",
   "id": "16d67be3-dc93-4037-b10d-f4e234649b18",
   "metadata": {},
   "source": [
    "Q2. Why *args and **kwargs is used in some functions? Create a function each for *args and **kwargs\n",
    "to demonstrate their use."
   ]
  },
  {
   "cell_type": "markdown",
   "id": "91fd507f-5dd6-4ef4-85ed-232ae78729a3",
   "metadata": {},
   "source": [
    "In Python, *args and **kwargs are used to allow a function to accept a variable number of arguments.\n",
    "\n",
    "The *args syntax is used to pass a variable number of non-keyword arguments to a function. It allows you to pass any number of positional arguments, and they are collected into a tuple within the function.\n",
    "\n",
    "Here's an example of a function that accepts *args and concatenates the provided arguments into a single string:"
   ]
  },
  {
   "cell_type": "code",
   "execution_count": 3,
   "id": "4256bd7c-dadc-495f-ad4d-6ff8a792b2dd",
   "metadata": {},
   "outputs": [
    {
     "name": "stdout",
     "output_type": "stream",
     "text": [
      "Hello World\n",
      "12345\n",
      "OpenAI GPT-3.5\n"
     ]
    }
   ],
   "source": [
    "def concatenate_args(*args):\n",
    "    result = \"\"\n",
    "    for arg in args:\n",
    "        result += str(arg)\n",
    "    return result\n",
    "\n",
    "# Calling the function with different arguments\n",
    "print(concatenate_args(\"Hello\", \" \", \"World\"))  # Output: \"Hello World\"\n",
    "print(concatenate_args(1, 2, 3, 4, 5))  # Output: \"12345\"\n",
    "print(concatenate_args(\"Open\", \"AI\", \" \", \"GPT\", \"-\", 3.5))  # Output: \"OpenAI GPT-3.5\"\n"
   ]
  },
  {
   "cell_type": "markdown",
   "id": "8ed5ad00-c20b-4064-8cb3-59cf8ac46634",
   "metadata": {},
   "source": [
    "The **kwargs syntax is used to pass a variable number of keyword arguments to a function. It allows you to pass any number of named arguments, and they are collected into a dictionary within the function.\n",
    "\n",
    "Here's an example of a function that accepts **kwargs and prints the key-value pairs of the provided arguments:"
   ]
  },
  {
   "cell_type": "code",
   "execution_count": 4,
   "id": "cafc1583-5283-48c9-8574-aafcd6fab420",
   "metadata": {},
   "outputs": [
    {
     "name": "stdout",
     "output_type": "stream",
     "text": [
      "name: John\n",
      "age: 30\n",
      "country: USA\n",
      "city: New York\n",
      "language: English\n"
     ]
    }
   ],
   "source": [
    "def print_kwargs(**kwargs):\n",
    "    for key, value in kwargs.items():\n",
    "        print(key + \":\", value)\n",
    "\n",
    "# Calling the function with different arguments\n",
    "print_kwargs(name=\"John\", age=30)  # Output: \"name: John\", \"age: 30\"\n",
    "print_kwargs(country=\"USA\", city=\"New York\", language=\"English\")  # Output: \"country: USA\", \"city: New York\", \"language: English\"\n"
   ]
  },
  {
   "cell_type": "markdown",
   "id": "4eda62c5-ba74-457c-a7e0-995d460def42",
   "metadata": {},
   "source": [
    "In the print_kwargs function, the **kwargs parameter collects the keyword arguments into a dictionary. We can then iterate over the dictionary using the items() method to access the key-value pairs and print them.\n",
    "\n",
    "Using *args and **kwargs allows greater flexibility when designing functions that need to handle varying numbers of arguments or named parameters. It enables you to create more generic and reusable functions that can accommodate different input scenarios."
   ]
  },
  {
   "cell_type": "markdown",
   "id": "1fc02bc4-49ee-406b-8bc1-1879b292dce8",
   "metadata": {},
   "source": [
    "Q3. What is an iterator in python? Name the method used to initialise the iterator object and the method\n",
    "used for iteration. Use these methods to print the first five elements of the given list [2, 4, 6, 8, 10, 12, 14,\n",
    "16, 18, 20]."
   ]
  },
  {
   "cell_type": "markdown",
   "id": "00e79519-4a01-4b64-8a4b-113047656eba",
   "metadata": {},
   "source": [
    "In Python, an iterator is an object that represents a stream of data. It provides a way to access the elements of a container (such as a list, tuple, or dictionary) one by one, without the need to access the entire collection at once. Iterators are used to implement iteration in Python and can be created for any object that implements the iterator protocol.\n",
    "\n",
    "The two main methods associated with iterators are:\n",
    "\n",
    "iter(): This method is used to initialize an iterator object. It takes an iterable (an object that can be iterated over, like a list or string) as an argument and returns an iterator object associated with that iterable.\n",
    "\n",
    "next(): This method is used to iterate over the elements of an iterator. It returns the next element from the iterator. When all the elements have been iterated, it raises the StopIteration exception.\n",
    "\n",
    "To print the first five elements of the given list [2, 4, 6, 8, 10, 12, 14, 16, 18, 20], we can use these methods as follows:"
   ]
  },
  {
   "cell_type": "code",
   "execution_count": 6,
   "id": "804cfd92-e44f-4ffd-a9ae-cf33afb44ed6",
   "metadata": {},
   "outputs": [
    {
     "name": "stdout",
     "output_type": "stream",
     "text": [
      "2\n",
      "4\n",
      "6\n",
      "8\n",
      "10\n"
     ]
    }
   ],
   "source": [
    "my_list = [2, 4, 6, 8, 10, 12, 14, 16, 18, 20]\n",
    "\n",
    "# Initializing the iterator object\n",
    "my_iterator = iter(my_list)\n",
    "\n",
    "# Iterating over the first five elements using next() method\n",
    "for _ in range(5):\n",
    "    element = next(my_iterator)\n",
    "    print(element)\n"
   ]
  },
  {
   "cell_type": "markdown",
   "id": "9a13577b-a179-4cfc-b571-2e76fffc9ab7",
   "metadata": {},
   "source": [
    "Q4. What is a generator function in python? Why yield keyword is used? Give an example of a generator\n",
    "function."
   ]
  },
  {
   "cell_type": "markdown",
   "id": "b3de864d-faee-4f69-ab50-e2218512de39",
   "metadata": {},
   "source": [
    "In Python, a generator function is a special type of function that generates a sequence of values, allowing you to iterate over them one at a time. Unlike regular functions that return a value and then exit, generator functions use the yield keyword to temporarily pause the function's execution and yield a value to the caller. The generator function retains its state between multiple invocations, so each time the function is called, it resumes execution from where it left off.\n",
    "\n",
    "The yield keyword is used in generator functions to define points at which the function should yield a value. When a generator function encounters a yield statement, it returns the yielded value to the caller, but the function's state is saved, allowing it to resume execution later when the next value is requested. This makes generator functions efficient for generating large sequences of values without requiring the entire sequence to be stored in memory.\n",
    "\n",
    "Here's an example of a generator function that generates a sequence of squares:"
   ]
  },
  {
   "cell_type": "markdown",
   "id": "fa671002-068a-40d6-a998-ab147ee83c16",
   "metadata": {},
   "source": [
    "def square_generator(n):\n",
    "    for i in range(n):\n",
    "        yield i ** 2\n",
    "\n",
    "# Using the generator function\n",
    "my_generator = square_generator(5)\n",
    "\n",
    "# Iterating over the generated values\n",
    "for square in my_generator:\n",
    "    print(square)\n"
   ]
  },
  {
   "cell_type": "markdown",
   "id": "55392061-170e-467c-9076-69bfe9ead5d1",
   "metadata": {},
   "source": [
    "In the square_generator function, we use a for loop to iterate over the range from 0 to n (exclusive). At each iteration, we use the yield keyword to yield the square of the current value of i. This generates a sequence of squares without the need to store all the values in memory.\n",
    "\n",
    "When we call square_generator(5), it returns a generator object. We then use a for loop to iterate over the values generated by the generator. In each iteration, the yield statement yields the next square value, which is printed.\n",
    "\n",
    "Generator functions are useful when dealing with large or infinite sequences of values, as they allow you to generate and process values on-the-fly without consuming excessive memory."
   ]
  },
  {
   "cell_type": "markdown",
   "id": "fde8785b-28ca-4695-af75-af05a034c7e3",
   "metadata": {},
   "source": [
    "Q5. Create a generator function for prime numbers less than 1000. Use the next() method to print the\n",
    "first 20 prime numbers."
   ]
  },
  {
   "cell_type": "code",
   "execution_count": 8,
   "id": "ab2ec780-faa7-4f1b-9000-b363ce0f8fb7",
   "metadata": {},
   "outputs": [
    {
     "name": "stdout",
     "output_type": "stream",
     "text": [
      "2\n",
      "3\n",
      "5\n",
      "7\n",
      "11\n",
      "13\n",
      "17\n",
      "19\n",
      "23\n",
      "29\n",
      "31\n",
      "37\n",
      "41\n",
      "43\n",
      "47\n",
      "53\n",
      "59\n",
      "61\n",
      "67\n",
      "71\n"
     ]
    }
   ],
   "source": [
    "def prime_generator():\n",
    "    primes = []\n",
    "    num = 2\n",
    "    while True:\n",
    "        if all(num % prime != 0 for prime in primes):\n",
    "            primes.append(num)\n",
    "            yield num\n",
    "        num += 1\n",
    "\n",
    "# Creating the prime number generator\n",
    "prime_gen = prime_generator()\n",
    "\n",
    "# Printing the first 20 prime numbers\n",
    "for _ in range(20):\n",
    "    prime = next(prime_gen)\n",
    "    print(prime)\n"
   ]
  },
  {
   "cell_type": "markdown",
   "id": "b3bbb6f0-cd81-4b4d-a498-446491da8920",
   "metadata": {},
   "source": [
    "Q6. Write a python program to print the first 10 Fibonacci numbers using a while loop"
   ]
  },
  {
   "cell_type": "code",
   "execution_count": 9,
   "id": "fc6df55d-7bdf-4360-bef3-98f391bdf321",
   "metadata": {},
   "outputs": [
    {
     "name": "stdout",
     "output_type": "stream",
     "text": [
      "0\n",
      "1\n",
      "1\n",
      "2\n",
      "3\n",
      "5\n",
      "8\n",
      "13\n",
      "21\n",
      "34\n"
     ]
    }
   ],
   "source": [
    "# Function to print the first 10 Fibonacci numbers using a while loop\n",
    "def print_fibonacci():\n",
    "    count = 0\n",
    "    first_num, second_num = 0, 1\n",
    "    \n",
    "    while count < 10:\n",
    "        print(first_num)\n",
    "        next_num = first_num + second_num\n",
    "        first_num = second_num\n",
    "        second_num = next_num\n",
    "        count += 1\n",
    "\n",
    "# Calling the function\n",
    "print_fibonacci()\n"
   ]
  },
  {
   "cell_type": "markdown",
   "id": "705d1648-3b0d-4704-b72b-ad26a50673c4",
   "metadata": {},
   "source": [
    "Q7. Write a List Comprehension to iterate through the given string: ‘pwskills’.\n",
    "Expected output: ['p', 'w', 's', 'k', 'i', 'l', 'l', 's']"
   ]
  },
  {
   "cell_type": "code",
   "execution_count": 10,
   "id": "34376a3c-55c0-4a42-870b-690c149e4d0e",
   "metadata": {},
   "outputs": [
    {
     "name": "stdout",
     "output_type": "stream",
     "text": [
      "['p', 'w', 's', 'k', 'i', 'l', 'l', 's']\n"
     ]
    }
   ],
   "source": [
    "string = 'pwskills'\n",
    "result = [char for char in string if char in 'pwskills']\n",
    "print(result)\n"
   ]
  },
  {
   "cell_type": "markdown",
   "id": "944ee25a-07a5-4077-ba8e-aab50a4d1deb",
   "metadata": {},
   "source": [
    "Q8. Write a python program to check whether a given number is Palindrome or not using a while loop."
   ]
  },
  {
   "cell_type": "code",
   "execution_count": 11,
   "id": "0ee3d6d4-1c2c-46b3-87c0-526a8d5a4e4c",
   "metadata": {},
   "outputs": [
    {
     "name": "stdin",
     "output_type": "stream",
     "text": [
      "Enter a number:  1\n"
     ]
    },
    {
     "name": "stdout",
     "output_type": "stream",
     "text": [
      "1 is a palindrome\n"
     ]
    }
   ],
   "source": [
    "def is_palindrome(number):\n",
    "    original_number = number\n",
    "    reversed_number = 0\n",
    "\n",
    "    while number > 0:\n",
    "        remainder = number % 10\n",
    "        reversed_number = (reversed_number * 10) + remainder\n",
    "        number = number // 10\n",
    "\n",
    "    if original_number == reversed_number:\n",
    "        return True\n",
    "    else:\n",
    "        return False\n",
    "\n",
    "# Testing the function\n",
    "number = int(input(\"Enter a number: \"))\n",
    "if is_palindrome(number):\n",
    "    print(number, \"is a palindrome\")\n",
    "else:\n",
    "    print(number, \"is not a palindrome\")\n"
   ]
  },
  {
   "cell_type": "markdown",
   "id": "67230ce7-a0cf-47d7-9f2f-7283c87773ad",
   "metadata": {},
   "source": [
    "Q9. Write a code to print odd numbers from 1 to 100 using list comprehension.\n",
    "Note: Use a list comprehension to create a list from 1 to 100 and use another List comprehension to filter\n",
    "out odd numbers."
   ]
  },
  {
   "cell_type": "code",
   "execution_count": 12,
   "id": "d2cd57e4-f802-4220-956f-6dd8c8fe703b",
   "metadata": {},
   "outputs": [
    {
     "name": "stdout",
     "output_type": "stream",
     "text": [
      "[1, 3, 5, 7, 9, 11, 13, 15, 17, 19, 21, 23, 25, 27, 29, 31, 33, 35, 37, 39, 41, 43, 45, 47, 49, 51, 53, 55, 57, 59, 61, 63, 65, 67, 69, 71, 73, 75, 77, 79, 81, 83, 85, 87, 89, 91, 93, 95, 97, 99]\n"
     ]
    }
   ],
   "source": [
    "odd_numbers = [num for num in range(1, 101) if num % 2 != 0]\n",
    "print(odd_numbers)\n"
   ]
  },
  {
   "cell_type": "code",
   "execution_count": null,
   "id": "c7890038-5a77-4722-8ddd-cbbc374d0175",
   "metadata": {},
   "outputs": [],
   "source": []
  }
 ],
 "metadata": {
  "kernelspec": {
   "display_name": "Python 3 (ipykernel)",
   "language": "python",
   "name": "python3"
  },
  "language_info": {
   "codemirror_mode": {
    "name": "ipython",
    "version": 3
   },
   "file_extension": ".py",
   "mimetype": "text/x-python",
   "name": "python",
   "nbconvert_exporter": "python",
   "pygments_lexer": "ipython3",
   "version": "3.10.8"
  }
 },
 "nbformat": 4,
 "nbformat_minor": 5
}
