{
 "cells": [
  {
   "cell_type": "markdown",
   "id": "dec0ae31-7281-44f5-ae11-f04bf3bb520e",
   "metadata": {},
   "source": [
    "Q1. Create a python program to sort the given list of tuples based on integer value using a\n",
    "lambda function.\n",
    "[('Sachin Tendulkar', 34357), ('Ricky Ponting', 27483), ('Jack Kallis', 25534), ('Virat Kohli', 24936)]"
   ]
  },
  {
   "cell_type": "markdown",
   "id": "8fccdc02-ccc7-40b2-935c-51820d132d15",
   "metadata": {},
   "source": [
    "Sure! Here's a Python program that sorts the given list of tuples based on the integer value using a lambda function:\n",
    "\n",
    "```python\n",
    "data = [('Sachin Tendulkar', 34357), ('Ricky Ponting', 27483), ('Jack Kallis', 25534), ('Virat Kohli', 24936)]\n",
    "\n",
    "sorted_data = sorted(data, key=lambda x: x[1])\n",
    "\n",
    "print(\"Sorted list:\")\n",
    "for item in sorted_data:\n",
    "    print(item)\n",
    "```\n",
    "\n",
    "Output:\n",
    "```\n",
    "Sorted list:\n",
    "('Virat Kohli', 24936)\n",
    "('Jack Kallis', 25534)\n",
    "('Ricky Ponting', 27483)\n",
    "('Sachin Tendulkar', 34357)\n",
    "```\n",
    "\n",
    "In this program, the `sorted()` function is used to sort the `data` list based on the integer value in each tuple. The `key` parameter is set to a lambda function `lambda x: x[1]`, which extracts the second element (integer value) from each tuple for comparison during the sorting process.\n",
    "\n",
    "The sorted result is stored in the `sorted_data` list, and then it is printed using a loop to display the sorted list of tuples. The lambda function helps in defining a temporary function inline, specifically for the purpose of sorting based on the second element of each tuple.\n",
    "\n",
    "The output shows the sorted list of tuples in ascending order based on the integer value."
   ]
  },
  {
   "cell_type": "markdown",
   "id": "2243617b-bd90-4ef6-a122-f0b2647d236a",
   "metadata": {},
   "source": [
    "Q2. Write a Python Program to find the squares of all the numbers in the given list of integers using\n",
    "lambda and map functions.\n",
    "[1, 2, 3, 4, 5, 6, 7, 8, 9, 10]"
   ]
  },
  {
   "cell_type": "markdown",
   "id": "80d78b53-6b54-43f6-9045-ad88a52736ea",
   "metadata": {},
   "source": [
    " Python program that uses lambda and map functions to find the squares of all the numbers in the given list of integers:"
   ]
  },
  {
   "cell_type": "code",
   "execution_count": 4,
   "id": "229315e1-64f2-40ee-9b56-cc3229bb64aa",
   "metadata": {},
   "outputs": [
    {
     "name": "stdout",
     "output_type": "stream",
     "text": [
      "List of squares:\n",
      "[1, 4, 9, 16, 25, 36, 49, 64, 81, 100]\n"
     ]
    }
   ],
   "source": [
    "numbers = [1, 2, 3, 4, 5, 6, 7, 8, 9, 10]\n",
    "\n",
    "squares = list(map(lambda x: x**2, numbers))\n",
    "\n",
    "print(\"List of squares:\")\n",
    "print(squares)\n"
   ]
  },
  {
   "cell_type": "markdown",
   "id": "697e6878-96b2-42f0-8395-7979dcb00c0e",
   "metadata": {},
   "source": [
    "In this program, the map() function is used to apply the lambda function lambda x: x**2 to each element in the numbers list. The lambda function calculates the square of each number.\n",
    "\n",
    "The map() function returns an iterator, which is converted into a list using the list() function. The resulting list squares contains the squares of all the numbers in the original list.\n",
    "\n",
    "Finally, the list of squares is printed to the console.\n",
    "\n",
    "The output displays the list of squares [1, 4, 9, 16, 25, 36, 49, 64, 81, 100], where each number in the list is the square of the corresponding number from the original list."
   ]
  },
  {
   "cell_type": "markdown",
   "id": "bfd19064-7c09-4851-9d5a-772228b58aa5",
   "metadata": {},
   "source": [
    "Q3. Write a python program to convert the given list of integers into a tuple of strings. Use map and\n",
    "lambda functions\n",
    "Given String: [1, 2, 3, 4, 5, 6, 7, 8, 9, 10]\n",
    "Expected output: ('1', '2', '3', '4', '5', '6', '7', '8', '9', '10')"
   ]
  },
  {
   "cell_type": "code",
   "execution_count": 5,
   "id": "69c858fb-d3e2-4ea6-acd0-f51076ea1ba6",
   "metadata": {},
   "outputs": [
    {
     "name": "stdout",
     "output_type": "stream",
     "text": [
      "Converted tuple:\n",
      "('1', '2', '3', '4', '5', '6', '7', '8', '9', '10')\n"
     ]
    }
   ],
   "source": [
    "numbers = [1, 2, 3, 4, 5, 6, 7, 8, 9, 10]\n",
    "\n",
    "converted_tuple = tuple(map(lambda x: str(x), numbers))\n",
    "\n",
    "print(\"Converted tuple:\")\n",
    "print(converted_tuple)\n"
   ]
  },
  {
   "cell_type": "markdown",
   "id": "7186ca2e-2492-4ce6-b52c-3b9383bb18ed",
   "metadata": {},
   "source": [
    "numbers = [1, 2, 3, 4, 5, 6, 7, 8, 9, 10]\n",
    "\n",
    "converted_tuple = tuple(map(lambda x: str(x), numbers))\n",
    "\n",
    "print(\"Converted tuple:\")\n",
    "print(converted_tuple)\n"
   ]
  },
  {
   "cell_type": "markdown",
   "id": "b9eb9a8b-8dcd-49e8-9403-2d7911b2a281",
   "metadata": {},
   "source": [
    "Q4. Write a python program using reduce function to compute the product of a list containing numbers\n",
    "from 1 to 25."
   ]
  },
  {
   "cell_type": "markdown",
   "id": "807c71ea-2274-4cea-b618-0dc6838717bf",
   "metadata": {},
   "source": [
    "To compute the product of a list containing numbers from 1 to 25 using the reduce() function from the functools module, you can follow this Python program:"
   ]
  },
  {
   "cell_type": "code",
   "execution_count": 6,
   "id": "f325578c-13df-48d0-b77f-8ff4104d25a9",
   "metadata": {},
   "outputs": [
    {
     "name": "stdout",
     "output_type": "stream",
     "text": [
      "Product: 15511210043330985984000000\n"
     ]
    }
   ],
   "source": [
    "from functools import reduce\n",
    "\n",
    "numbers = list(range(1, 26))\n",
    "\n",
    "product = reduce(lambda x, y: x * y, numbers)\n",
    "\n",
    "print(\"Product:\", product)\n"
   ]
  },
  {
   "cell_type": "markdown",
   "id": "bf3dd20d-de56-4ba6-8a16-4e932eede920",
   "metadata": {},
   "source": [
    "\n",
    "To compute the product of a list containing numbers from 1 to 25 using the reduce() function from the functools module, you can follow this Python program:\n",
    "\n",
    "python\n",
    "Copy code\n",
    "from functools import reduce\n",
    "\n",
    "numbers = list(range(1, 26))\n",
    "\n",
    "product = reduce(lambda x, y: x * y, numbers)\n",
    "\n",
    "print(\"Product:\", product)\n",
    "Output:\n",
    "\n",
    "makefile\n",
    "Copy code\n",
    "Product: 15511210043330985984000000\n",
    "In this program, the reduce() function is imported from the functools module. The numbers list is created using the range() function to contain numbers from 1 to 25.\n",
    "\n",
    "The reduce() function is called with a lambda function lambda x, y: x * y as the first argument. This lambda function multiplies two numbers x and y together. The reduce() function applies this lambda function cumulatively to the items of the numbers list from left to right, effectively computing the product of all the numbers."
   ]
  },
  {
   "cell_type": "markdown",
   "id": "f60f5341-d2c9-4083-adef-2c2aa4fa2238",
   "metadata": {},
   "source": [
    "Q5. Write a python program to filter the numbers in a given list that are divisible by 2 and 3 using the\n",
    "filter function.\n",
    "[2, 3, 6, 9, 27, 60, 90, 120, 55, 46]"
   ]
  },
  {
   "cell_type": "code",
   "execution_count": 7,
   "id": "f56da5eb-c026-4863-a06d-c073a931973a",
   "metadata": {},
   "outputs": [
    {
     "name": "stdout",
     "output_type": "stream",
     "text": [
      "Filtered numbers:\n",
      "[6, 60, 90, 120]\n"
     ]
    }
   ],
   "source": [
    "numbers = [2, 3, 6, 9, 27, 60, 90, 120, 55, 46]\n",
    "\n",
    "filtered_numbers = list(filter(lambda x: x % 2 == 0 and x % 3 == 0, numbers))\n",
    "\n",
    "print(\"Filtered numbers:\")\n",
    "print(filtered_numbers)\n"
   ]
  },
  {
   "cell_type": "markdown",
   "id": "6a2c864b-8931-44eb-806f-460662b48c39",
   "metadata": {},
   "source": [
    "In this program, the filter() function is used to filter the numbers in the numbers list based on the condition provided by the lambda function lambda x: x % 2 == 0 and x % 3 == 0. This lambda function checks if a number is divisible by both 2 and 3 using the modulo operator %.\n",
    "\n",
    "The filter() function returns an iterator, which is converted into a list using the list() function. The resulting list filtered_numbers contains only the numbers from the original list that satisfy the condition."
   ]
  },
  {
   "cell_type": "markdown",
   "id": "c605a9ad-b9b0-42e4-a172-392db4dd0ef2",
   "metadata": {},
   "source": [
    "Q6. Write a python program to find palindromes in the given list of strings using lambda and filter\n",
    "function.\n",
    "['python', 'php', 'aba', 'radar', 'level']"
   ]
  },
  {
   "cell_type": "code",
   "execution_count": 8,
   "id": "4ebfb0e8-19cc-412b-a6b6-52c3d2b54078",
   "metadata": {},
   "outputs": [
    {
     "name": "stdout",
     "output_type": "stream",
     "text": [
      "Palindromes:\n",
      "['php', 'aba', 'radar', 'level']\n"
     ]
    }
   ],
   "source": [
    "strings = ['python', 'php', 'aba', 'radar', 'level']\n",
    "\n",
    "palindromes = list(filter(lambda s: s == s[::-1], strings))\n",
    "\n",
    "print(\"Palindromes:\")\n",
    "print(palindromes)\n"
   ]
  },
  {
   "cell_type": "markdown",
   "id": "f207a48c-b957-4f45-8877-25ee7638fd36",
   "metadata": {},
   "source": [
    "In this program, the filter() function is used to filter the strings in the strings list based on the condition provided by the lambda function lambda s: s == s[::-1]. This lambda function checks if a string is equal to its reverse using slicing with [::-1].\n",
    "\n",
    "The filter() function returns an iterator, which is converted into a list using the list() function. The resulting list palindromes contains only the strings from the original list that are palindromes."
   ]
  }
 ],
 "metadata": {
  "kernelspec": {
   "display_name": "Python 3 (ipykernel)",
   "language": "python",
   "name": "python3"
  },
  "language_info": {
   "codemirror_mode": {
    "name": "ipython",
    "version": 3
   },
   "file_extension": ".py",
   "mimetype": "text/x-python",
   "name": "python",
   "nbconvert_exporter": "python",
   "pygments_lexer": "ipython3",
   "version": "3.10.8"
  }
 },
 "nbformat": 4,
 "nbformat_minor": 5
}
