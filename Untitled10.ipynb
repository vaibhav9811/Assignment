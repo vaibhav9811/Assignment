{
 "cells": [
  {
   "cell_type": "markdown",
   "id": "1786c197-1cf6-4fb4-a0e9-510bc0cd90ea",
   "metadata": {},
   "source": [
    "Q1. What is Flask Framework? What are the advantages of Flask Framework?\n"
   ]
  },
  {
   "cell_type": "markdown",
   "id": "35c93a8f-165e-4278-a396-e51b021f0380",
   "metadata": {},
   "source": [
    "Flask is a lightweight web framework written in Python. It is designed to be simple, easy to use, and flexible, making it a popular choice for building web applications and APIs. Here are some key features and advantages of the Flask framework:\n",
    "\n",
    "1. Minimalistic: Flask follows a minimalistic approach, providing only the essential tools needed to build a web application. It allows developers to start small and add components as required, resulting in a lightweight and customizable application.\n",
    "\n",
    "2. Easy to get started: Flask has a straightforward and intuitive API, making it easy for developers, including beginners, to get started quickly. Its simplicity enables rapid development and iteration.\n",
    "\n",
    "3. Flexible and modular: Flask allows developers to choose the tools and libraries they prefer, making it highly flexible. It follows the \"micro\" framework philosophy, which means it provides a core set of functionality and allows extensions to be added as needed. This modular approach enables developers to customize their application based on specific requirements.\n",
    "\n",
    "4. Extensive documentation and large community: Flask has excellent documentation, providing clear explanations and examples for its features. Additionally, it has a large and active community that contributes to the framework's development, shares knowledge, and provides support through forums, tutorials, and third-party libraries.\n",
    "\n",
    "5. Integration with other libraries and tools: Flask integrates well with other Python libraries and tools, allowing developers to leverage a wide range of existing resources. It seamlessly works with popular libraries like SQLAlchemy (for database integration), Jinja2 (for templating), WTForms (for form handling), and more.\n",
    "\n",
    "6. Built-in development server and debugger: Flask provides a built-in development server that allows developers to test and run their application locally during the development phase. It also includes a debugger, which assists in identifying and fixing issues in the code.\n",
    "\n",
    "7. Scalability: While Flask is known as a lightweight framework, it can still handle larger and more complex applications. By leveraging extensions, such as Flask-SQLAlchemy and Flask-Caching, developers can scale Flask applications to meet the demands of production environments.\n",
    "\n",
    "8. RESTful request handling: Flask provides excellent support for building RESTful APIs. It allows developers to handle HTTP requests and responses efficiently, making it a popular choice for creating API backends.\n",
    "\n",
    "Overall, Flask offers simplicity, flexibility, and extensibility, making it an excellent framework for developing web applications and APIs, especially for projects that require a lightweight and customizable approach."
   ]
  },
  {
   "cell_type": "markdown",
   "id": "370b488e-c198-460b-9288-bd83c2f717d9",
   "metadata": {},
   "source": [
    "Q2. Create a simple Flask application to display ‘Hello World!!’. Attach the screenshot of the output in\n",
    "Jupyter Notebook."
   ]
  },
  {
   "cell_type": "code",
   "execution_count": 3,
   "id": "87d79260-3b68-4a6e-be16-3d8feadfd148",
   "metadata": {},
   "outputs": [
    {
     "ename": "ModuleNotFoundError",
     "evalue": "No module named 'flask'",
     "output_type": "error",
     "traceback": [
      "\u001b[0;31m---------------------------------------------------------------------------\u001b[0m",
      "\u001b[0;31mModuleNotFoundError\u001b[0m                       Traceback (most recent call last)",
      "Cell \u001b[0;32mIn[3], line 1\u001b[0m\n\u001b[0;32m----> 1\u001b[0m \u001b[38;5;28;01mfrom\u001b[39;00m \u001b[38;5;21;01mflask\u001b[39;00m \u001b[38;5;28;01mimport\u001b[39;00m Flask\n\u001b[1;32m      3\u001b[0m app \u001b[38;5;241m=\u001b[39m Flask(\u001b[38;5;18m__name__\u001b[39m)\n\u001b[1;32m      5\u001b[0m \u001b[38;5;129m@app\u001b[39m\u001b[38;5;241m.\u001b[39mroute(\u001b[38;5;124m'\u001b[39m\u001b[38;5;124m/\u001b[39m\u001b[38;5;124m'\u001b[39m)\n\u001b[1;32m      6\u001b[0m \u001b[38;5;28;01mdef\u001b[39;00m \u001b[38;5;21mhello_world\u001b[39m():\n",
      "\u001b[0;31mModuleNotFoundError\u001b[0m: No module named 'flask'"
     ]
    }
   ],
   "source": [
    "from flask import Flask\n",
    "\n",
    "app = Flask(__name__)\n",
    "\n",
    "@app.route('/')\n",
    "def hello_world():\n",
    "    return 'Hello World!!'\n",
    "\n",
    "if __name__ == '__main__':\n",
    "    app.run()\n"
   ]
  },
  {
   "cell_type": "markdown",
   "id": "87935863-bf1b-426a-917b-872e6498cc93",
   "metadata": {},
   "source": [
    "Q3. What is App routing in Flask? Why do we use app routes?"
   ]
  },
  {
   "cell_type": "markdown",
   "id": "8dd1ba90-863a-42d0-aa88-91633fc848a6",
   "metadata": {},
   "source": [
    "In Flask, app routing refers to the process of mapping URL paths to specific functions or views within your Flask application. It allows you to define different routes or endpoints for your application, each corresponding to a specific URL.\n",
    "\n",
    "App routing is achieved using the `@app.route()` decorator in Flask. This decorator is used to associate a URL with a particular function. When a user makes a request to a specific URL, Flask will match the URL to the decorated function and execute it.\n",
    "\n",
    "Here's an example:\n",
    "\n",
    "```python\n",
    "from flask import Flask\n",
    "\n",
    "app = Flask(__name__)\n",
    "\n",
    "@app.route('/')\n",
    "def home():\n",
    "    return 'This is the home page'\n",
    "\n",
    "@app.route('/about')\n",
    "def about():\n",
    "    return 'This is the about page'\n",
    "\n",
    "@app.route('/contact')\n",
    "def contact():\n",
    "    return 'This is the contact page'\n",
    "\n",
    "if __name__ == '__main__':\n",
    "    app.run()\n",
    "```\n",
    "\n",
    "In the example above, we have defined three routes: the root route `'/'`, the `'/about'` route, and the `'/contact'` route. Each route is associated with a function that returns a specific response when the corresponding URL is requested.\n",
    "\n",
    "Using app routes in Flask provides a clean and structured way to handle different URLs and their corresponding functionality within your application. It allows you to separate different parts of your application logic into separate views, making your code more organized and easier to maintain.\n",
    "\n",
    "App routes are used to implement the basic functionality of a web application, such as displaying different pages, handling form submissions, processing API requests, and more. They provide a way to define the behavior of your application based on the requested URL, allowing you to build dynamic and interactive web applications."
   ]
  },
  {
   "cell_type": "markdown",
   "id": "213208e9-681b-4a92-bdcb-b30ccdbbde41",
   "metadata": {},
   "source": [
    "Q4. Create a “/welcome” route to display the welcome message “Welcome to ABC Corporation” and a “/”\n",
    "route to show the following details:\n",
    "Company Name: ABC Corporation\n",
    "Location: India\n",
    "Contact Detail: 999-999-9999"
   ]
  },
  {
   "cell_type": "code",
   "execution_count": 4,
   "id": "e19900f5-fdc5-4eee-9656-9abc2ab35416",
   "metadata": {},
   "outputs": [
    {
     "ename": "ModuleNotFoundError",
     "evalue": "No module named 'flask'",
     "output_type": "error",
     "traceback": [
      "\u001b[0;31m---------------------------------------------------------------------------\u001b[0m",
      "\u001b[0;31mModuleNotFoundError\u001b[0m                       Traceback (most recent call last)",
      "Cell \u001b[0;32mIn[4], line 1\u001b[0m\n\u001b[0;32m----> 1\u001b[0m \u001b[38;5;28;01mfrom\u001b[39;00m \u001b[38;5;21;01mflask\u001b[39;00m \u001b[38;5;28;01mimport\u001b[39;00m Flask\n\u001b[1;32m      3\u001b[0m app \u001b[38;5;241m=\u001b[39m Flask(\u001b[38;5;18m__name__\u001b[39m)\n\u001b[1;32m      5\u001b[0m \u001b[38;5;129m@app\u001b[39m\u001b[38;5;241m.\u001b[39mroute(\u001b[38;5;124m'\u001b[39m\u001b[38;5;124m/welcome\u001b[39m\u001b[38;5;124m'\u001b[39m)\n\u001b[1;32m      6\u001b[0m \u001b[38;5;28;01mdef\u001b[39;00m \u001b[38;5;21mwelcome\u001b[39m():\n",
      "\u001b[0;31mModuleNotFoundError\u001b[0m: No module named 'flask'"
     ]
    }
   ],
   "source": [
    "from flask import Flask\n",
    "\n",
    "app = Flask(__name__)\n",
    "\n",
    "@app.route('/welcome')\n",
    "def welcome():\n",
    "    return 'Welcome to ABC Corporation'\n",
    "\n",
    "@app.route('/')\n",
    "def details():\n",
    "    return '''Company Name: ABC Corporation\n",
    "              Location: India\n",
    "              Contact Detail: 999-999-9999'''\n",
    "\n",
    "if __name__ == '__main__':\n",
    "    app.run()\n"
   ]
  },
  {
   "cell_type": "markdown",
   "id": "63fe3175-924e-491f-bff3-1dd2c9d89a9d",
   "metadata": {},
   "source": [
    "Q5. What function is used in Flask for URL Building? Write a Python code to demonstrate the working of the\n",
    "url_for() function."
   ]
  },
  {
   "cell_type": "code",
   "execution_count": null,
   "id": "b588c99f-f149-4bb7-b13f-91564aa5332a",
   "metadata": {},
   "outputs": [],
   "source": [
    "In Flask, the `url_for()` function is used for URL building. It is a helpful function that generates a URL for a given endpoint based on its name and any dynamic arguments it may require.\n",
    "\n",
    "The `url_for()` function takes the endpoint name as its first argument and any additional keyword arguments representing the dynamic parts of the URL pattern. It returns the URL as a string.\n",
    "\n",
    "Here's an example code that demonstrates the working of the `url_for()` function:\n",
    "\n",
    "```python\n",
    "from flask import Flask, url_for\n",
    "\n",
    "app = Flask(__name__)\n",
    "\n",
    "@app.route('/')\n",
    "def home():\n",
    "    return 'This is the home page'\n",
    "\n",
    "@app.route('/about')\n",
    "def about():\n",
    "    return 'This is the about page'\n",
    "\n",
    "@app.route('/contact')\n",
    "def contact():\n",
    "    return 'This is the contact page'\n",
    "\n",
    "@app.route('/user/<username>')\n",
    "def user_profile(username):\n",
    "    return f'This is the profile page of {username}'\n",
    "\n",
    "@app.route('/login')\n",
    "def login():\n",
    "    return 'Please log in'\n",
    "\n",
    "if __name__ == '__main__':\n",
    "    with app.test_request_context():\n",
    "        # Using url_for() to build URLs\n",
    "        home_url = url_for('home')\n",
    "        about_url = url_for('about')\n",
    "        contact_url = url_for('contact')\n",
    "        profile_url = url_for('user_profile', username='john')\n",
    "        login_url = url_for('login')\n",
    "\n",
    "        # Printing the generated URLs\n",
    "        print('Home URL:', home_url)\n",
    "        print('About URL:', about_url)\n",
    "        print('Contact URL:', contact_url)\n",
    "        print('Profile URL:', profile_url)\n",
    "        print('Login URL:', login_url)\n",
    "```\n",
    "\n",
    "In the code above, we have defined several routes, including `'/'`, `'/about'`, `'/contact'`, `'/user/<username>'`, and `'/login'`. Within the `if __name__ == '__main__'` block, we use `url_for()` to generate the URLs for these routes.\n",
    "\n",
    "When you run the code, it will output the generated URLs for each route. You'll notice that `url_for()` automatically includes any dynamic arguments required for the URL pattern. For example, in the `user_profile` route, we provide the `username` argument to `url_for()`, and it generates the URL with the placeholder `<username>` replaced with the provided value.\n",
    "\n",
    "The `url_for()` function is particularly useful when you want to generate URLs dynamically in your Flask application. It ensures that the URLs are generated correctly, even if you change the URL patterns or add additional dynamic arguments in the future."
   ]
  }
 ],
 "metadata": {
  "kernelspec": {
   "display_name": "Python 3 (ipykernel)",
   "language": "python",
   "name": "python3"
  },
  "language_info": {
   "codemirror_mode": {
    "name": "ipython",
    "version": 3
   },
   "file_extension": ".py",
   "mimetype": "text/x-python",
   "name": "python",
   "nbconvert_exporter": "python",
   "pygments_lexer": "ipython3",
   "version": "3.10.8"
  }
 },
 "nbformat": 4,
 "nbformat_minor": 5
}
