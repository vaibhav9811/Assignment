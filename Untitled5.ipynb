{
 "cells": [
  {
   "cell_type": "markdown",
   "id": "d2d5c399-47b3-4598-ac82-6b626ff9a0f8",
   "metadata": {},
   "source": [
    "Q1. Load the \"titanic\" dataset using the load_dataset function of seaborn. Use Plotly express to plot a\n",
    "scatter plot for age and fare columns in the titanic dataset."
   ]
  },
  {
   "cell_type": "markdown",
   "id": "3434dce1-594d-4c2b-b83e-1b32e1166340",
   "metadata": {},
   "source": [
    "Seaborn does not have a `load_dataset` function. Instead, it's a function provided by the seaborn library to load example datasets. However, you can use the `titanic` dataset directly from the Plotly Express library. Here's an example of how to load the Titanic dataset and create a scatter plot using Plotly Express:\n",
    "\n",
    "```python\n",
    "import plotly.express as px\n",
    "\n",
    "# Load the Titanic dataset from Plotly Express\n",
    "df = px.data.tips()\n",
    "\n",
    "# Create a scatter plot for age and fare columns\n",
    "fig = px.scatter(df, x='age', y='total_bill', title='Scatter Plot of Age and Fare in Titanic Dataset')\n",
    "\n",
    "# Show the plot\n",
    "fig.show()\n",
    "```\n",
    "\n",
    "In this example, I used the `tips` dataset from Plotly Express, as there is no specific `titanic` dataset in Plotly Express. You can replace it with the `titanic` dataset if you have it loaded in your environment. If you don't have the `titanic` dataset, you can load it using other libraries or use a different dataset for the scatter plot."
   ]
  },
  {
   "cell_type": "markdown",
   "id": "1a85cc86-7983-4bef-a4e3-ec9086281fc9",
   "metadata": {},
   "source": [
    "Q2. Using the tips dataset in the Plotly library, plot a box plot using Plotly express."
   ]
  },
  {
   "cell_type": "markdown",
   "id": "68179060-9674-4e17-a117-f8b471ffedf6",
   "metadata": {},
   "source": [
    "import plotly.express as px\n",
    "\n",
    "# Load the tips dataset from Plotly Express\n",
    "df = px.data.tips()\n",
    "\n",
    "# Create a box plot for total_bill and day columns\n",
    "fig = px.box(df, x='day', y='total_bill', title='Box Plot of Total Bill by Day')\n",
    "\n",
    "# Show the plot\n",
    "fig.show()\n"
   ]
  },
  {
   "cell_type": "markdown",
   "id": "572c57e1-1c31-4a6d-bba0-e33636926937",
   "metadata": {},
   "source": [
    "Q3. Using the tips dataset in the Plotly library, Plot a histogram for x= \"sex\" and y=\"total_bill\" column in\n",
    "the tips dataset. Also, use the \"smoker\" column with the pattern_shape parameter and the \"day\"\n",
    "column with the color parameter."
   ]
  },
  {
   "cell_type": "markdown",
   "id": "6237928c-0648-4da9-b819-02857adb68c0",
   "metadata": {},
   "source": [
    "import plotly.express as px\n",
    "\n",
    "# Load the tips dataset from Plotly Express\n",
    "df = px.data.tips()\n",
    "\n",
    "# Create a histogram for sex and total_bill with additional parameters\n",
    "fig = px.histogram(df, \n",
    "                   x='sex', \n",
    "                   y='total_bill',\n",
    "                   color='day',  # Color by the \"day\" column\n",
    "                   facet_col='smoker',  # Facet by the \"smoker\" column\n",
    "                   pattern_shape='smoker',  # Use different shapes for \"smoker\" column\n",
    "                   title='Histogram of Total Bill by Sex with Color and Shape Variation'\n",
    "                   )\n",
    "\n",
    "# Show the plot\n",
    "fig.show()\n"
   ]
  },
  {
   "cell_type": "markdown",
   "id": "88089610-e4cc-481c-b33e-f00e47a8278e",
   "metadata": {},
   "source": [
    "Q4. Using the iris dataset in the Plotly library, Plot a scatter matrix plot, using the \"species\" column for\n",
    "the color parameter.\n",
    "Note: Use \"sepal_length\", \"sepal_width\", \"petal_length\", \"petal_width\" columns only with the\n",
    "dimensions parameter."
   ]
  },
  {
   "cell_type": "markdown",
   "id": "dfa3011b-7586-4bb3-bfd3-b8caa7c7bc97",
   "metadata": {},
   "source": [
    "import plotly.express as px\n",
    "\n",
    "# Load the iris dataset from Plotly Express\n",
    "df = px.data.iris()\n",
    "\n",
    "# Create a scatter matrix plot\n",
    "fig = px.scatter_matrix(df,\n",
    "                        dimensions=[\"sepal_length\", \"sepal_width\", \"petal_length\", \"petal_width\"],\n",
    "                        color=\"species\",\n",
    "                        title='Scatter Matrix Plot of Iris Dataset with Color by Species'\n",
    "                        )\n",
    "\n",
    "# Show the plot\n",
    "fig.show()\n"
   ]
  },
  {
   "cell_type": "markdown",
   "id": "8585bd38-354e-4dc6-a878-abfbf50ac103",
   "metadata": {},
   "source": [
    "Q5. What is Distplot? Using Plotly express, plot a distplot."
   ]
  },
  {
   "cell_type": "markdown",
   "id": "1b0c1afd-0803-4720-8b60-2ccec1aca866",
   "metadata": {},
   "source": [
    "A distplot (distribution plot) is a plot that combines a histogram with a kernel density estimate. It provides a visual representation of the distribution of a univariate dataset.\n",
    "\n",
    "Here's an example of how to create a distplot using Plotly Express:\n",
    "\n",
    "```python\n",
    "import plotly.express as px\n",
    "\n",
    "# Sample data\n",
    "data = [1, 1, 2, 2, 2, 3, 3, 3, 3, 4, 4, 5, 5, 5, 5]\n",
    "\n",
    "# Create a distplot\n",
    "fig = px.histogram(data, nbins=10, marginal='box', title='Distplot Example')\n",
    "\n",
    "# Show the plot\n",
    "fig.show()\n",
    "```"
   ]
  },
  {
   "cell_type": "code",
   "execution_count": null,
   "id": "750c2b27-e122-4f58-82ae-11970d518b7d",
   "metadata": {},
   "outputs": [],
   "source": []
  }
 ],
 "metadata": {
  "kernelspec": {
   "display_name": "Python 3 (ipykernel)",
   "language": "python",
   "name": "python3"
  },
  "language_info": {
   "codemirror_mode": {
    "name": "ipython",
    "version": 3
   },
   "file_extension": ".py",
   "mimetype": "text/x-python",
   "name": "python",
   "nbconvert_exporter": "python",
   "pygments_lexer": "ipython3",
   "version": "3.10.8"
  }
 },
 "nbformat": 4,
 "nbformat_minor": 5
}
