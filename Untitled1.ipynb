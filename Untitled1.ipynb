{
 "cells": [
  {
   "cell_type": "markdown",
   "id": "840ba093-a476-4852-9a97-402811b710ef",
   "metadata": {},
   "source": [
    "Q1. Explain with an example each when to use a for loop and a while loop. Ans- There are two types of loops :- i) while loop ii) for loop When a while loop is used the statements are executed till the boolean condition is true and as soon as the boolean conditions turns to false the loop stops. and also while loop also has a keyword which is else , which is executed when the boolean condition of while becomes false. for loop is used when we know the number of iteration or the number of times we have to execute a loop. the examples are given below:-"
   ]
  },
  {
   "cell_type": "code",
   "execution_count": 2,
   "id": "af6c1645-c8d8-468b-8648-eaeac61e83e6",
   "metadata": {},
   "outputs": [
    {
     "name": "stdout",
     "output_type": "stream",
     "text": [
      "1\n",
      "2\n",
      "3\n",
      "4\n",
      "5\n"
     ]
    }
   ],
   "source": [
    "i = 1\n",
    "while i <= 5:\n",
    "    print(i)\n",
    "    i += 1"
   ]
  },
  {
   "cell_type": "code",
   "execution_count": 3,
   "id": "a2766202-7cf0-4781-92c8-896f0d80890b",
   "metadata": {},
   "outputs": [
    {
     "name": "stdout",
     "output_type": "stream",
     "text": [
      "1\n",
      "2\n",
      "3\n",
      "4\n",
      "5\n",
      "6\n",
      "7\n",
      "8\n",
      "9\n"
     ]
    }
   ],
   "source": [
    "numbers = 10;\n",
    " \n",
    "#for looping as per python's syntax\n",
    " \n",
    "for num in range(1,numbers):\n",
    "    print(num)"
   ]
  },
  {
   "cell_type": "code",
   "execution_count": 26,
   "id": "b0d949a3-1fc8-4c02-9d9d-4e747e3be04a",
   "metadata": {},
   "outputs": [
    {
     "name": "stdout",
     "output_type": "stream",
     "text": [
      "Sum: 55\n",
      "Product: 3628800\n"
     ]
    }
   ],
   "source": [
    "# Write a python program to print the sum and product of the first 10 natural numbers using for\n",
    "#and while loop\n",
    "# Using for loop\n",
    "numbers = range(1, 11)  # First 10 natural numbers\n",
    "\n",
    "# Calculate the sum\n",
    "sum_result = 0\n",
    "for num in numbers:\n",
    "    sum_result += num\n",
    "\n",
    "# Calculate the product\n",
    "product_result = 1\n",
    "for num in numbers:\n",
    "    product_result *= num\n",
    "\n",
    "# Print the sum and product\n",
    "print(\"Sum:\", sum_result)\n",
    "print(\"Product:\", product_result)\n",
    "\n",
    "\n"
   ]
  },
  {
   "cell_type": "code",
   "execution_count": 27,
   "id": "e09d9c91-9ac1-4169-ae54-ed060cb74b1a",
   "metadata": {},
   "outputs": [
    {
     "name": "stdout",
     "output_type": "stream",
     "text": [
      "Sum: 55\n",
      "Product: 3628800\n"
     ]
    }
   ],
   "source": [
    "# Using while loop\n",
    "numbers = list(range(1, 11))  # First 10 natural numbers\n",
    "index = 0\n",
    "\n",
    "# Calculate the sum\n",
    "sum_result = 0\n",
    "while index < len(numbers):\n",
    "    sum_result += numbers[index]\n",
    "    index += 1\n",
    "\n",
    "# Calculate the product\n",
    "product_result = 1\n",
    "index = 0\n",
    "while index < len(numbers):\n",
    "    product_result *= numbers[index]\n",
    "    index += 1\n",
    "\n",
    "# Print the sum and product\n",
    "print(\"Sum:\", sum_result)\n",
    "print(\"Product:\", product_result)\n"
   ]
  },
  {
   "cell_type": "markdown",
   "id": "d82d5b94-4bc5-4768-8421-eef798b2f87b",
   "metadata": {},
   "source": [
    "Q3..The per-unit charges in rupees are as follows: For the first 100 units, the user will be charged Rs. 4.5 per\n",
    "unit, for the next 100 units, the user will be charged Rs. 6 per unit, and for the next 100 units, the user will\n",
    "be charged Rs. 10 per unit, After 300 units and above the user will be charged Rs. 20 per unit.\n",
    "You are required to take the units of electricity consumed in a month from the user as input.\n",
    "Your program must pass this test case: when the unit of electricity consumed by the user in a month is\n",
    "310, the total electricity bill should be 2250."
   ]
  },
  {
   "cell_type": "code",
   "execution_count": 46,
   "id": "c98d47b3-ab6d-469e-9b25-538eb49876ff",
   "metadata": {},
   "outputs": [
    {
     "name": "stdin",
     "output_type": "stream",
     "text": [
      "Enter the units of electricity consumed:  310\n"
     ]
    },
    {
     "name": "stdout",
     "output_type": "stream",
     "text": [
      "Total electricity bill: 2250.0\n"
     ]
    }
   ],
   "source": [
    "# Taking input from the user\n",
    "units_consumed = int(input(\"Enter the units of electricity consumed: \"))\n",
    "\n",
    "# Initialize variables\n",
    "total_bill = 0\n",
    "\n",
    "# Calculate the bill\n",
    "if units_consumed <= 100:\n",
    "    total_bill = units_consumed * 4.5\n",
    "elif units_consumed <= 200:\n",
    "    total_bill = 100 * 4.5 + (units_consumed - 100) * 6\n",
    "elif units_consumed <= 300:\n",
    "    total_bill = 100 * 4.5 + 100 * 6 + (units_consumed - 200) * 10\n",
    "else:\n",
    "    total_bill = 100 * 4.5 + 100 * 6 + 100 * 10 + (units_consumed - 300) * 20\n",
    "\n",
    "# Print the total bill\n",
    "print(\"Total electricity bill:\", total_bill)\n"
   ]
  },
  {
   "cell_type": "markdown",
   "id": "47fad343-c8f5-4180-b54c-a66ac1724704",
   "metadata": {},
   "source": [
    "Q4. Create a list of numbers from 1 to 100. Use for loop and while loop to calculate the cube of each\n",
    "number and if the cube of that number is divisible by 4 or 5 then append that number in a list and print\n",
    "that list."
   ]
  },
  {
   "cell_type": "code",
   "execution_count": 47,
   "id": "7259cc58-e936-4dd8-995f-b90ab2478c14",
   "metadata": {},
   "outputs": [
    {
     "name": "stdout",
     "output_type": "stream",
     "text": [
      "[2, 4, 5, 6, 8, 10, 12, 14, 15, 16, 18, 20, 22, 24, 25, 26, 28, 30, 32, 34, 35, 36, 38, 40, 42, 44, 45, 46, 48, 50, 52, 54, 55, 56, 58, 60, 62, 64, 65, 66, 68, 70, 72, 74, 75, 76, 78, 80, 82, 84, 85, 86, 88, 90, 92, 94, 95, 96, 98, 100]\n"
     ]
    }
   ],
   "source": [
    "# Using for loop\n",
    "numbers = list(range(1, 101))  # List of numbers from 1 to 100\n",
    "cubes = []  # List to store numbers whose cubes are divisible by 4 or 5\n",
    "\n",
    "# Calculate the cubes and append to the list\n",
    "for num in numbers:\n",
    "    cube = num ** 3\n",
    "    if cube % 4 == 0 or cube % 5 == 0:\n",
    "        cubes.append(num)\n",
    "\n",
    "# Print the list of numbers\n",
    "print(cubes)\n"
   ]
  },
  {
   "cell_type": "code",
   "execution_count": 48,
   "id": "d7e6e903-7849-4632-9210-3a41137b2ddc",
   "metadata": {},
   "outputs": [
    {
     "name": "stdout",
     "output_type": "stream",
     "text": [
      "[2, 4, 5, 6, 8, 10, 12, 14, 15, 16, 18, 20, 22, 24, 25, 26, 28, 30, 32, 34, 35, 36, 38, 40, 42, 44, 45, 46, 48, 50, 52, 54, 55, 56, 58, 60, 62, 64, 65, 66, 68, 70, 72, 74, 75, 76, 78, 80, 82, 84, 85, 86, 88, 90, 92, 94, 95, 96, 98, 100]\n"
     ]
    }
   ],
   "source": [
    "# Using while loop\n",
    "numbers = list(range(1, 101))  # List of numbers from 1 to 100\n",
    "cubes = []  # List to store numbers whose cubes are divisible by 4 or 5\n",
    "\n",
    "# Calculate the cubes and append to the list\n",
    "index = 0\n",
    "while index < len(numbers):\n",
    "    num = numbers[index]\n",
    "    cube = num ** 3\n",
    "    if cube % 4 == 0 or cube % 5 == 0:\n",
    "        cubes.append(num)\n",
    "    index += 1\n",
    "\n",
    "# Print the list of numbers\n",
    "print(cubes)\n"
   ]
  },
  {
   "cell_type": "markdown",
   "id": "6e72aa75-8add-4006-9671-c3de2612461b",
   "metadata": {},
   "source": [
    "Q5. Write a program to filter count vowels in the below-given string.\n",
    "string = \"I want to become a data scientist\""
   ]
  },
  {
   "cell_type": "code",
   "execution_count": 50,
   "id": "9426c33f-4942-46c2-8067-4e575bda1857",
   "metadata": {},
   "outputs": [
    {
     "name": "stdout",
     "output_type": "stream",
     "text": [
      "Number of vowels: 12\n"
     ]
    }
   ],
   "source": [
    "# Given string\n",
    "string = \"I want to become a data scientist\"\n",
    "\n",
    "# Define a function to count vowels\n",
    "def count_vowels(string):\n",
    "    vowels = ['a', 'e', 'i', 'o', 'u']\n",
    "    count = 0\n",
    "\n",
    "    for char in string.lower():\n",
    "        if char in vowels:\n",
    "            count += 1\n",
    "\n",
    "    return count\n",
    "\n",
    "# Call the function and print the result\n",
    "vowel_count = count_vowels(string)\n",
    "print(\"Number of vowels:\", vowel_count)\n"
   ]
  },
  {
   "cell_type": "code",
   "execution_count": null,
   "id": "a17f84e1-3796-4f40-b335-27a3f20251ea",
   "metadata": {},
   "outputs": [],
   "source": []
  }
 ],
 "metadata": {
  "kernelspec": {
   "display_name": "Python 3 (ipykernel)",
   "language": "python",
   "name": "python3"
  },
  "language_info": {
   "codemirror_mode": {
    "name": "ipython",
    "version": 3
   },
   "file_extension": ".py",
   "mimetype": "text/x-python",
   "name": "python",
   "nbconvert_exporter": "python",
   "pygments_lexer": "ipython3",
   "version": "3.10.8"
  }
 },
 "nbformat": 4,
 "nbformat_minor": 5
}
