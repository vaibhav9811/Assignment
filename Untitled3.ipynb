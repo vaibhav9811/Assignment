{
 "cells": [
  {
   "cell_type": "markdown",
   "id": "be66952c-5df4-475a-a68a-274d3d58d27a",
   "metadata": {},
   "source": [
    "User\n",
    "Q1. What is MongoDB? Explain non-relational databases in short. In which scenarios it is preferred to use\n",
    "MongoDB over SQL databases?"
   ]
  },
  {
   "cell_type": "raw",
   "id": "024130f8-cd46-4f05-980d-fb730bf6abde",
   "metadata": {},
   "source": [
    "MongoDB is a popular open-source document-oriented NoSQL database. It falls under the category of non-relational databases, which are designed to store and retrieve data in a way that differs from traditional SQL (relational) databases.\n",
    "\n",
    "Non-relational databases, also known as NoSQL databases, provide a flexible data model that allows for the storage and retrieval of unstructured or semi-structured data. Unlike SQL databases, which use tables with predefined schemas and relationships between tables, non-relational databases use various data models such as key-value pairs, documents, graphs, or wide-column stores.\n",
    "\n",
    "Here are a few characteristics of non-relational databases:\n",
    "\n",
    "Flexible Schema: Non-relational databases do not enforce a rigid schema, allowing for dynamic and flexible data structures. Each record (document) in a non-relational database can have its own structure and fields, providing the ability to store heterogeneous data.\n",
    "\n",
    "Scalability: Non-relational databases are designed to scale horizontally, meaning they can handle large amounts of data by distributing it across multiple servers or clusters. This scalability allows for better performance and handling of high data loads.\n",
    "\n",
    "High Availability: Non-relational databases often have built-in features for data replication and distribution, ensuring high availability and fault tolerance. They are designed to handle system failures and provide automatic failover mechanisms.\n",
    "\n",
    "Performance: Non-relational databases optimize for specific use cases, such as read-heavy or write-heavy workloads. They can provide high performance by leveraging indexing, caching, and data denormalization techniques.\n",
    "\n",
    "MongoDB is often preferred over SQL databases in the following scenarios:\n",
    "\n",
    "Flexible and Evolving Data: When dealing with data that doesn't have a fixed schema or changes frequently, MongoDB's flexible document model allows for easy adaptation to evolving data structures. It is well-suited for projects where requirements change frequently or require storing heterogeneous data.\n",
    "\n",
    "Scalability and Big Data: MongoDB's ability to scale horizontally makes it suitable for handling large volumes of data and high traffic loads. It can distribute data across multiple nodes or clusters to provide scalability and meet performance requirements.\n",
    "\n",
    "Real-Time Analytics: MongoDB's data model is conducive to real-time analytics and data processing. It supports complex queries and aggregations, making it suitable for applications that require real-time data analysis or complex data manipulation.\n",
    "\n",
    "Rapid Development and Prototyping: MongoDB's flexible schema and document model make it convenient for rapid application development and prototyping. Developers can quickly iterate on the data model without needing to define strict schemas up front.\n",
    "\n",
    "Use Cases Requiring High Availability: MongoDB provides features like replica sets and automatic failover, which ensure high availability and data redundancy. It is suitable for applications that require continuous availability and fault tolerance.\n",
    "\n",
    "It's important to note that the choice between MongoDB and SQL databases depends on specific project requirements, data structure, and use case. Both types of databases have their strengths and weaknesses, and the decision should be based on factors such as data consistency, transactional support, scalability needs, and the nature of the application itself."
   ]
  },
  {
   "cell_type": "markdown",
   "id": "6c527c5d-58e9-4079-bf3c-0fdfa1a537b4",
   "metadata": {},
   "source": [
    "Q2. State and Explain the features of MongoDB."
   ]
  },
  {
   "cell_type": "markdown",
   "id": "25a927c9-fa0d-47ff-b0f6-8bdc1d09d224",
   "metadata": {},
   "source": [
    "MongoDB is a popular NoSQL database that offers numerous features that set it apart from traditional relational databases. Here are some key features of MongoDB:\n",
    "\n",
    "Document-Oriented: MongoDB stores data in flexible, JSON-like documents called BSON (Binary JSON). This document-oriented approach allows for easy and dynamic schema evolution, as each document can have its own unique structure.\n",
    "\n",
    "Scalability and High Performance: MongoDB is designed to handle large-scale data and high traffic loads. It supports horizontal scaling through sharding, allowing you to distribute data across multiple servers. This ensures high performance and availability even as your application grows.\n",
    "\n",
    "Flexible Data Model: MongoDB's flexible schema allows you to store and query heterogeneous data without sacrificing performance. You can store different types of data within a single collection, and each document can have its own structure. This flexibility makes it well-suited for agile development and handling evolving data requirements.\n",
    "\n",
    "Indexing and Querying: MongoDB provides rich querying capabilities, including support for ad-hoc queries, indexing, and aggregation. It supports a wide range of query types, including exact matches, range queries, text searches, geospatial queries, and more. Indexes can be created on any field to optimize query performance.\n",
    "\n",
    "Replication and High Availability: MongoDB supports replica sets, which are self-healing clusters of database nodes. Replica sets provide automatic failover and data redundancy, ensuring high availability and data durability. In the event of a primary node failure, one of the secondary nodes is automatically promoted to the new primary.\n",
    "\n",
    "Flexible Transactions: MongoDB supports multi-document ACID transactions within a single replica set or sharded cluster. Transactions allow you to group multiple operations into a single atomic unit, ensuring data consistency and integrity.\n",
    "\n",
    "Aggregation Framework: MongoDB's powerful aggregation framework allows you to perform complex data aggregation operations, such as grouping, filtering, and transforming data. It provides operators and stages for data manipulation, allowing you to extract meaningful insights from your data.\n",
    "\n",
    "Native JavaScript API: MongoDB provides a native JavaScript API for querying and manipulating data. This allows developers to work with the database using a language they are already familiar with, simplifying development and integration with other JavaScript-based technologies.\n",
    "\n",
    "Rich Ecosystem and Community: MongoDB has a vibrant community and a rich ecosystem of tools, libraries, and frameworks. It integrates well with popular programming languages and frameworks, making it easy to use in a variety of development environments.\n",
    "\n",
    "Overall, MongoDB's features make it a powerful and flexible database choice, particularly for applications that require scalability, high performance, and dynamic data modeling.\n",
    "\n",
    "\n",
    "\n",
    "\n"
   ]
  },
  {
   "cell_type": "markdown",
   "id": "83d65268-8e16-4a56-92e1-7b81ec721f04",
   "metadata": {},
   "source": [
    "Q3. Write a code to connect MongoDB to Python. Also, create a database and a collection in MongoDB."
   ]
  },
  {
   "cell_type": "code",
   "execution_count": 6,
   "id": "4c397882-4982-4e6f-9c3e-bdca5ef09ab9",
   "metadata": {},
   "outputs": [
    {
     "ename": "ModuleNotFoundError",
     "evalue": "No module named 'pymongo'",
     "output_type": "error",
     "traceback": [
      "\u001b[0;31m---------------------------------------------------------------------------\u001b[0m",
      "\u001b[0;31mModuleNotFoundError\u001b[0m                       Traceback (most recent call last)",
      "Cell \u001b[0;32mIn[6], line 1\u001b[0m\n\u001b[0;32m----> 1\u001b[0m \u001b[38;5;28;01mimport\u001b[39;00m \u001b[38;5;21;01mpymongo\u001b[39;00m\n\u001b[1;32m      3\u001b[0m \u001b[38;5;66;03m# Connect to MongoDB server\u001b[39;00m\n\u001b[1;32m      4\u001b[0m client \u001b[38;5;241m=\u001b[39m pymongo\u001b[38;5;241m.\u001b[39mMongoClient(\u001b[38;5;124m\"\u001b[39m\u001b[38;5;124mmongodb://localhost:27017\u001b[39m\u001b[38;5;124m\"\u001b[39m)\n",
      "\u001b[0;31mModuleNotFoundError\u001b[0m: No module named 'pymongo'"
     ]
    }
   ],
   "source": [
    "import pymongo\n",
    "\n",
    "# Connect to MongoDB server\n",
    "client = pymongo.MongoClient(\"mongodb://localhost:27017\")\n",
    "\n",
    "# Create a new database\n",
    "mydb = client[\"mydatabase\"]\n",
    "\n",
    "# Create a new collection within the database\n",
    "mycol = mydb[\"mycollection\"]\n",
    "\n",
    "# Insert a document into the collection\n",
    "document = {\"name\": \"John\", \"age\": 30}\n",
    "mycol.insert_one(document)\n",
    "\n",
    "# Retrieve all documents from the collection\n",
    "results = mycol.find()\n",
    "\n",
    "# Print each document\n",
    "for document in results:\n",
    "    print(document)"
   ]
  },
  {
   "cell_type": "markdown",
   "id": "2ebe7088-23f6-46f2-807f-ba0fe8e8939b",
   "metadata": {},
   "source": [
    "Q4. Using the database and the collection created in question number 3, write a code to insert one record,\n",
    "and insert many records. Use the find() and find_one() methods to print the inserted record."
   ]
  },
  {
   "cell_type": "code",
   "execution_count": null,
   "id": "b22dae20-045d-4198-8eb2-98d1492f4065",
   "metadata": {},
   "outputs": [],
   "source": [
    "import pymongo\n",
    "\n",
    "# Connect to MongoDB server\n",
    "client = pymongo.MongoClient(\"mongodb://localhost:27017\")\n",
    "\n",
    "# Access the database and collection\n",
    "mydb = client[\"mydatabase\"]\n",
    "mycol = mydb[\"mycollection\"]\n",
    "\n",
    "# Insert one record\n",
    "document = {\"name\": \"Alice\", \"age\": 25}\n",
    "inserted_one = mycol.insert_one(document)\n",
    "print(\"Inserted ID:\", inserted_one.inserted_id)\n",
    "\n",
    "# Insert many records\n",
    "documents = [\n",
    "    {\"name\": \"Bob\", \"age\": 35},\n",
    "    {\"name\": \"Charlie\", \"age\": 28},\n",
    "    {\"name\": \"David\", \"age\": 40}\n",
    "]\n",
    "inserted_many = mycol.insert_many(documents)\n",
    "print(\"Inserted IDs:\", inserted_many.inserted_ids)\n",
    "\n",
    "# Find and print the inserted records\n",
    "print(\"Inserted Records:\")\n",
    "print(\"One record:\")\n",
    "print(mycol.find_one({\"_id\": inserted_one.inserted_id}))\n",
    "\n",
    "print(\"Many records:\")\n",
    "for document in mycol.find({\"_id\": {\"$in\": inserted_many.inserted_ids}}):\n",
    "    print(document)\n"
   ]
  },
  {
   "cell_type": "markdown",
   "id": "a7e0a67b-c833-4332-a09b-9f52e1f2a6b3",
   "metadata": {},
   "source": [
    "Q5. Explain how you can use the find() method to query the MongoDB database. Write a simple code to\n",
    "demonstrate this."
   ]
  },
  {
   "cell_type": "markdown",
   "id": "18453345-3515-4caf-b345-96ba267402e0",
   "metadata": {},
   "source": [
    "\n",
    "The find() method in MongoDB is used to query the database and retrieve documents that match a specific set of criteria. It allows you to filter and retrieve documents based on various conditions. Here's how you can use the find() method and an example code to demonstrate it:\n",
    "\n",
    "Syntax:cursor = collection.find(query, projection)\n"
   ]
  },
  {
   "cell_type": "markdown",
   "id": "979ce0a4-9585-4ae2-9b8f-780bee5ee21c",
   "metadata": {},
   "source": [
    "Parameters:\n",
    "\n",
    "query (optional): A document that specifies the query conditions. It filters the documents based on the specified criteria. If no query is provided, it retrieves all documents from the collection.\n",
    "projection (optional): A document that specifies which fields to include or exclude in the query results. By default, it includes all fields. You can control the fields returned using projection operators like $project, $include, $exclude, etc.\n",
    "The find() method returns a cursor object, which you can iterate over to access the retrieved documents. Here's an example code that demonstrates the usage of find():"
   ]
  },
  {
   "cell_type": "code",
   "execution_count": 10,
   "id": "b57cca81-f090-4908-a082-246d992994eb",
   "metadata": {},
   "outputs": [
    {
     "ename": "ModuleNotFoundError",
     "evalue": "No module named 'pymongo'",
     "output_type": "error",
     "traceback": [
      "\u001b[0;31m---------------------------------------------------------------------------\u001b[0m",
      "\u001b[0;31mModuleNotFoundError\u001b[0m                       Traceback (most recent call last)",
      "Cell \u001b[0;32mIn[10], line 1\u001b[0m\n\u001b[0;32m----> 1\u001b[0m \u001b[38;5;28;01mimport\u001b[39;00m \u001b[38;5;21;01mpymongo\u001b[39;00m\n\u001b[1;32m      3\u001b[0m \u001b[38;5;66;03m# Connect to MongoDB server\u001b[39;00m\n\u001b[1;32m      4\u001b[0m client \u001b[38;5;241m=\u001b[39m pymongo\u001b[38;5;241m.\u001b[39mMongoClient(\u001b[38;5;124m\"\u001b[39m\u001b[38;5;124mmongodb://localhost:27017\u001b[39m\u001b[38;5;124m\"\u001b[39m)\n",
      "\u001b[0;31mModuleNotFoundError\u001b[0m: No module named 'pymongo'"
     ]
    }
   ],
   "source": [
    "import pymongo\n",
    "\n",
    "# Connect to MongoDB server\n",
    "client = pymongo.MongoClient(\"mongodb://localhost:27017\")\n",
    "\n",
    "# Access the database and collection\n",
    "mydb = client[\"mydatabase\"]\n",
    "mycol = mydb[\"mycollection\"]\n",
    "\n",
    "# Insert some example documents\n",
    "documents = [\n",
    "    {\"name\": \"Alice\", \"age\": 25},\n",
    "    {\"name\": \"Bob\", \"age\": 35},\n",
    "    {\"name\": \"Charlie\", \"age\": 28},\n",
    "    {\"name\": \"David\", \"age\": 40}\n",
    "]\n",
    "mycol.insert_many(documents)\n",
    "\n",
    "# Find documents matching a query\n",
    "query = {\"age\": {\"$gte\": 30}}  # Retrieves documents where age is greater than or equal to 30\n",
    "results = mycol.find(query)\n",
    "\n",
    "# Print the retrieved documents\n",
    "for document in results:\n",
    "    print(document)\n"
   ]
  },
  {
   "cell_type": "markdown",
   "id": "2660c366-cc06-4407-ad75-729004c9bbd3",
   "metadata": {},
   "source": [
    "Q6. Explain the sort() method. Give an example to demonstrate sorting in MongoDB"
   ]
  },
  {
   "cell_type": "markdown",
   "id": "2843c049-948f-4486-ae4d-82f3eba2e3c9",
   "metadata": {},
   "source": [
    "\n",
    "The sort() method in MongoDB is used to sort the retrieved documents based on one or more fields. It allows you to specify the sorting order as ascending (1) or descending (-1) for each field. You can use the sort() method in conjunction with the find() method to retrieve documents in a specific order. Here's how you can use the sort() method and an example code to demonstrate sorting in MongoDB:\n",
    "\n",
    "Syntax:\n",
    "\n",
    "python\n",
    "Copy code\n",
    "cursor = collection.find(query).sort(sort_key, sort_order)"
   ]
  },
  {
   "cell_type": "markdown",
   "id": "afedef5a-85e4-4bfa-9782-0e2bc277acb1",
   "metadata": {},
   "source": [
    "Parameters:\n",
    "\n",
    "sort_key: The field or fields by which you want to sort the documents. It can be a single field or a list of fields. For multiple fields, MongoDB applies the sort order in the order of the fields specified.\n",
    "sort_order (optional): The sorting order to be applied. It can be either 1 for ascending order or -1 for descending order. The default is ascending order.\n",
    "The sort() method returns a cursor object with the sorted documents. Here's an example code that demonstrates the usage of sort():"
   ]
  },
  {
   "cell_type": "code",
   "execution_count": 11,
   "id": "d28fe941-5231-4593-abf0-b5c11397ed5e",
   "metadata": {},
   "outputs": [
    {
     "ename": "ModuleNotFoundError",
     "evalue": "No module named 'pymongo'",
     "output_type": "error",
     "traceback": [
      "\u001b[0;31m---------------------------------------------------------------------------\u001b[0m",
      "\u001b[0;31mModuleNotFoundError\u001b[0m                       Traceback (most recent call last)",
      "Cell \u001b[0;32mIn[11], line 1\u001b[0m\n\u001b[0;32m----> 1\u001b[0m \u001b[38;5;28;01mimport\u001b[39;00m \u001b[38;5;21;01mpymongo\u001b[39;00m\n\u001b[1;32m      3\u001b[0m \u001b[38;5;66;03m# Connect to MongoDB server\u001b[39;00m\n\u001b[1;32m      4\u001b[0m client \u001b[38;5;241m=\u001b[39m pymongo\u001b[38;5;241m.\u001b[39mMongoClient(\u001b[38;5;124m\"\u001b[39m\u001b[38;5;124mmongodb://localhost:27017\u001b[39m\u001b[38;5;124m\"\u001b[39m)\n",
      "\u001b[0;31mModuleNotFoundError\u001b[0m: No module named 'pymongo'"
     ]
    }
   ],
   "source": [
    "import pymongo\n",
    "\n",
    "# Connect to MongoDB server\n",
    "client = pymongo.MongoClient(\"mongodb://localhost:27017\")\n",
    "\n",
    "# Access the database and collection\n",
    "mydb = client[\"mydatabase\"]\n",
    "mycol = mydb[\"mycollection\"]\n",
    "\n",
    "# Insert some example documents\n",
    "documents = [\n",
    "    {\"name\": \"Alice\", \"age\": 25},\n",
    "    {\"name\": \"Bob\", \"age\": 35},\n",
    "    {\"name\": \"Charlie\", \"age\": 28},\n",
    "    {\"name\": \"David\", \"age\": 40}\n",
    "]\n",
    "mycol.insert_many(documents)\n",
    "\n",
    "# Sort documents by age in ascending order\n",
    "results = mycol.find().sort(\"age\", 1)\n",
    "\n",
    "# Print the sorted documents\n",
    "for document in results:\n",
    "    print(document)\n"
   ]
  },
  {
   "cell_type": "markdown",
   "id": "39a5779a-2029-4666-a1d6-a3c2b8c8de4c",
   "metadata": {},
   "source": [
    "Q7. Explain why delete_one(), delete_many(), and drop() is used."
   ]
  },
  {
   "cell_type": "markdown",
   "id": "7d5d6ea2-5203-41cf-bd2c-db167bdc9096",
   "metadata": {},
   "source": [
    "In MongoDB, the delete_one(), delete_many(), and drop() methods are used to remove documents or entire collections from a database. Here's an explanation of each method:\n",
    "\n",
    "delete_one(filter):\n",
    "The delete_one() method is used to delete a single document that matches the specified filter criteria. It takes a filter parameter that defines the criteria for selecting the document to be deleted. If multiple documents match the filter, only the first one encountered will be deleted.\n",
    "Example usage:mycol.delete_one({\"name\": \"Alice\"})"
   ]
  },
  {
   "cell_type": "markdown",
   "id": "4cad464a-753f-4b69-a4f2-232b770293ba",
   "metadata": {},
   "source": [
    "In the above example, the delete_one() method is used to delete a document from the collection mycol where the name field is equal to \"Alice\". It will remove the first document that matches the specified filter.\n",
    "\n",
    "delete_many(filter):\n",
    "The delete_many() method is used to delete multiple documents that match the specified filter criteria. It removes all the documents that satisfy the given filter."
   ]
  },
  {
   "cell_type": "markdown",
   "id": "84ad2caa-c224-4b58-b70e-e2eb3db50286",
   "metadata": {},
   "source": [
    "Example usage:\n",
    "\n",
    "python\n",
    "mycol.delete_many({\"age\": {\"$gt\": 30}})"
   ]
  },
  {
   "cell_type": "markdown",
   "id": "c0a2aa67-9407-4a93-ba1c-f4c449535169",
   "metadata": {},
   "source": [
    "In the above example, the delete_many() method is used to delete all documents from the collection mycol where the age field is greater than 30. It removes all the documents that match the specified filter.\n",
    "\n",
    "drop():\n",
    "The drop() method is used to remove an entire collection from the database. It effectively deletes all the documents in the collection and releases the storage space associated with it. The collection itself will be removed from the database.\n",
    "Example usage:\n",
    "\n",
    "python\n",
    "Copy code\n",
    "mycol.drop()\n",
    "In the above example, the drop() method is called on the mycol collection to delete it completely. After executing this method, the collection and all its documents will be permanently removed from the database.\n",
    "\n",
    "It's important to exercise caution while using these methods as they permanently delete data. Always double-check the filter criteria to ensure you are targeting the correct documents for deletion or dropping the correct collection."
   ]
  }
 ],
 "metadata": {
  "kernelspec": {
   "display_name": "Python 3 (ipykernel)",
   "language": "python",
   "name": "python3"
  },
  "language_info": {
   "codemirror_mode": {
    "name": "ipython",
    "version": 3
   },
   "file_extension": ".py",
   "mimetype": "text/x-python",
   "name": "python",
   "nbconvert_exporter": "python",
   "pygments_lexer": "ipython3",
   "version": "3.10.8"
  }
 },
 "nbformat": 4,
 "nbformat_minor": 5
}
