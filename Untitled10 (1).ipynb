{
 "cells": [
  {
   "cell_type": "markdown",
   "id": "52c9838d-bce1-4e90-8fac-ee030958c39f",
   "metadata": {},
   "source": [
    "Q1. Create a function which will take a list as an argument and return the product of all the numbers\n",
    "after creating a flat list.\n",
    "Use the below-given list as an argument for your function.\n",
    "list1 = [1,2,3,4, [44,55,66, True], False, (34,56,78,89,34), {1,2,3,3,2,1}, {1:34, \"key2\": [55, 67, 78, 89], 4: (45,\n",
    "22, 61, 34)}, [56, 'data science'], 'Machine Learning']\n",
    "\n"
   ]
  },
  {
   "cell_type": "markdown",
   "id": "0629d75c-e7f4-497b-bc2e-a200b3624ce2",
   "metadata": {},
   "source": [
    "def flatten_and_product(input_list):\n",
    "    # Flatten the list\n",
    "    flat_list = [item for sublist in input_list for item in (sublist if isinstance(sublist, (list, tuple)) else [sublist])]\n",
    "\n",
    "    # Calculate the product of numbers in the flat list\n",
    "    product = 1\n",
    "    for item in flat_list:\n",
    "        if isinstance(item, (int, float)):\n",
    "            product *= item\n",
    "\n",
    "    return product\n",
    "\n",
    "# Given list\n",
    "list1 = [1, 2, 3, 4, [44, 55, 66, True], False, (34, 56, 78, 89, 34), {1, 2, 3, 3, 2, 1},\n",
    "         {1: 34, \"key2\": [55, 67, 78, 89], 4: (45, 22, 61, 34)}, [56, 'data science'], 'Machine Learning']\n",
    "\n",
    "# Call the function with the given list\n",
    "result = flatten_and_product(list1)\n",
    "\n",
    "# Display the result\n",
    "print(\"Product of all numbers in the flattened list:\", result)\n"
   ]
  },
  {
   "cell_type": "markdown",
   "id": "3981d718-5897-4528-961d-5d23f0e03aae",
   "metadata": {},
   "source": [
    "Q2. Write a python program for encrypting a message sent to you by your friend. The logic of encryption\n",
    "should be such that, for a the output should be z. For b, the output should be y. For c, the output should\n",
    "be x respectively. Also, the whitespace should be replaced with a dollar sign. Keep the punctuation\n",
    "marks unchanged.\n",
    "Input Sentence: I want to become a Data Scientist.\n",
    "Encrypt the above input sentence using the program you just created.\n",
    "Note: Convert the given input sentence into lowercase before encrypting. The final output should be lower case"
   ]
  },
  {
   "cell_type": "code",
   "execution_count": 1,
   "id": "e71553e6-5f5e-49ae-95e4-72b88faadc53",
   "metadata": {},
   "outputs": [
    {
     "name": "stdout",
     "output_type": "stream",
     "text": [
      "Encrypted Sentence: r$dzmg$gl$yvxlnv$z$wzgz$hxrvmgrhg.\n"
     ]
    }
   ],
   "source": [
    "def encrypt_message(message):\n",
    "    encrypted_text = \"\"\n",
    "    for char in message:\n",
    "        if char.isalpha():\n",
    "            # Encrypt alphabets\n",
    "            encrypted_char = chr(ord('a') + (ord('z') - ord(char.lower())))\n",
    "            encrypted_text += encrypted_char\n",
    "        elif char == ' ':\n",
    "            # Replace whitespace with a dollar sign\n",
    "            encrypted_text += '$'\n",
    "        else:\n",
    "            # Keep punctuation marks unchanged\n",
    "            encrypted_text += char\n",
    "\n",
    "    return encrypted_text.lower()  # Convert the final result to lowercase\n",
    "\n",
    "# Input sentence\n",
    "input_sentence = \"I want to become a Data Scientist.\"\n",
    "\n",
    "# Convert the input sentence to lowercase and encrypt it\n",
    "encrypted_sentence = encrypt_message(input_sentence.lower())\n",
    "\n",
    "# Display the encrypted sentence\n",
    "print(\"Encrypted Sentence:\", encrypted_sentence)\n"
   ]
  },
  {
   "cell_type": "code",
   "execution_count": null,
   "id": "31358109-f634-41b7-b2f2-67c53109f7ca",
   "metadata": {},
   "outputs": [],
   "source": []
  }
 ],
 "metadata": {
  "kernelspec": {
   "display_name": "Python 3 (ipykernel)",
   "language": "python",
   "name": "python3"
  },
  "language_info": {
   "codemirror_mode": {
    "name": "ipython",
    "version": 3
   },
   "file_extension": ".py",
   "mimetype": "text/x-python",
   "name": "python",
   "nbconvert_exporter": "python",
   "pygments_lexer": "ipython3",
   "version": "3.10.8"
  }
 },
 "nbformat": 4,
 "nbformat_minor": 5
}
